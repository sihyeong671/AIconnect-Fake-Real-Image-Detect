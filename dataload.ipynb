{
 "cells": [
  {
   "cell_type": "code",
   "execution_count": 3,
   "metadata": {},
   "outputs": [
    {
     "name": "stdout",
     "output_type": "stream",
     "text": [
      "Downloading split 'train' to 'C:\\Users\\BSH\\fiftyone\\voc-2012\\train'\n",
      "Downloading http://host.robots.ox.ac.uk/pascal/VOC/voc2012/VOCtrainval_11-May-2012.tar to C:\\Users\\BSH\\fiftyone\\voc-2012\\tmp-download\\VOCtrainval_11-May-2012.tar\n"
     ]
    },
    {
     "name": "stderr",
     "output_type": "stream",
     "text": [
      "100%|██████████| 1999639040/1999639040 [05:51<00:00, 5693602.59it/s]\n"
     ]
    },
    {
     "name": "stdout",
     "output_type": "stream",
     "text": [
      "Extracting C:\\Users\\BSH\\fiftyone\\voc-2012\\tmp-download\\VOCtrainval_11-May-2012.tar to C:\\Users\\BSH\\fiftyone\\voc-2012\\tmp-download\n",
      " 100% |███████████████| 5717/5717 [1.5m elapsed, 0s remaining, 65.3 samples/s]      \n",
      "Downloading split 'validation' to 'C:\\Users\\BSH\\fiftyone\\voc-2012\\validation'\n",
      "Using downloaded and verified file: C:\\Users\\BSH\\fiftyone\\voc-2012\\tmp-download\\VOCtrainval_11-May-2012.tar\n",
      "Extracting C:\\Users\\BSH\\fiftyone\\voc-2012\\tmp-download\\VOCtrainval_11-May-2012.tar to C:\\Users\\BSH\\fiftyone\\voc-2012\\tmp-download\n",
      " 100% |███████████████| 5823/5823 [1.5m elapsed, 0s remaining, 66.2 samples/s]      \n",
      "Dataset info written to 'C:\\Users\\BSH\\fiftyone\\voc-2012\\info.json'\n",
      "Loading 'voc-2012' split 'train'\n",
      " 100% |███████████████| 5717/5717 [11.6s elapsed, 0s remaining, 419.8 samples/s]      \n",
      "Loading 'voc-2012' split 'validation'\n",
      " 100% |███████████████| 5823/5823 [11.6s elapsed, 0s remaining, 450.7 samples/s]      \n",
      "Dataset 'voc-2012' created\n"
     ]
    }
   ],
   "source": [
    "import fiftyone as fo\n",
    "import fiftyone.zoo as foz\n",
    "\n",
    "dataset_voc = foz.load_zoo_dataset(\"coco-2017\", split=\"test\")"
   ]
  },
  {
   "cell_type": "code",
   "execution_count": 7,
   "metadata": {},
   "outputs": [],
   "source": [
    "from glob import glob\n",
    "import os\n",
    "import shutil\n",
    "\n",
    "fake_img_paths = glob(\"./train/TestSet/*/*\")\n",
    "for path in fake_img_paths:\n",
    "  name= path.split(\"\\\\\")[-1]\n",
    "  shutil.move(path, f\"./train/fake_images/{name}\")"
   ]
  },
  {
   "cell_type": "code",
   "execution_count": 8,
   "metadata": {},
   "outputs": [],
   "source": [
    "real_img_paths = glob(\"./train/voc_train/*\") + glob(\"./train/voc_val/data/*\") \n",
    "for path in real_img_paths:\n",
    "  name= path.split(\"\\\\\")[-1]\n",
    "  shutil.move(path, f\"./train/real_images/{name}\")"
   ]
  },
  {
   "cell_type": "code",
   "execution_count": 1,
   "metadata": {},
   "outputs": [
    {
     "data": {
      "text/plain": [
       "(256, 256, 3)"
      ]
     },
     "execution_count": 1,
     "metadata": {},
     "output_type": "execute_result"
    }
   ],
   "source": [
    "from PIL import Image\n",
    "import numpy as np\n",
    "\n",
    "img = Image.open(\"./gen_data/biggan_256/biggan_000_302875.png\")\n",
    "img = np.asarray(img)\n",
    "img.shape"
   ]
  },
  {
   "cell_type": "code",
   "execution_count": null,
   "metadata": {},
   "outputs": [],
   "source": []
  }
 ],
 "metadata": {
  "kernelspec": {
   "display_name": "aiconnect-Kxogncsl",
   "language": "python",
   "name": "python3"
  },
  "language_info": {
   "codemirror_mode": {
    "name": "ipython",
    "version": 3
   },
   "file_extension": ".py",
   "mimetype": "text/x-python",
   "name": "python",
   "nbconvert_exporter": "python",
   "pygments_lexer": "ipython3",
   "version": "3.9.13"
  },
  "orig_nbformat": 4
 },
 "nbformat": 4,
 "nbformat_minor": 2
}
