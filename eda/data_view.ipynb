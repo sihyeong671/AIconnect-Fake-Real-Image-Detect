{
 "cells": [
  {
   "cell_type": "code",
   "execution_count": 1,
   "metadata": {},
   "outputs": [],
   "source": [
    "from glob import glob\n",
    "import os"
   ]
  },
  {
   "cell_type": "code",
   "execution_count": 7,
   "metadata": {},
   "outputs": [],
   "source": [
    "img_paths = []\n",
    "dir_lst = glob(\"..\\\\gen_data\\\\*\")\n",
    "for dir_path in dir_lst:\n",
    "  img_paths.append(len(glob(f\"{dir_path}\\\\*\")))"
   ]
  },
  {
   "cell_type": "code",
   "execution_count": 8,
   "metadata": {},
   "outputs": [
    {
     "name": "stdout",
     "output_type": "stream",
     "text": [
      "500 500 1000 1000 1000 1000 1000 400 300 300 1000 500 250 250 1000 1000 1000 333 333 167 167 166 167 167 166 167 167 500 1000 500 "
     ]
    }
   ],
   "source": [
    "for p in img_paths:\n",
    "  print(p, end=\" \")"
   ]
  },
  {
   "cell_type": "code",
   "execution_count": null,
   "metadata": {},
   "outputs": [],
   "source": []
  }
 ],
 "metadata": {
  "kernelspec": {
   "display_name": "aiconnect-Kxogncsl",
   "language": "python",
   "name": "python3"
  },
  "language_info": {
   "codemirror_mode": {
    "name": "ipython",
    "version": 3
   },
   "file_extension": ".py",
   "mimetype": "text/x-python",
   "name": "python",
   "nbconvert_exporter": "python",
   "pygments_lexer": "ipython3",
   "version": "3.9.13"
  },
  "orig_nbformat": 4
 },
 "nbformat": 4,
 "nbformat_minor": 2
}
